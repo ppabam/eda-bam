{
 "cells": [
  {
   "cell_type": "code",
   "execution_count": 1,
   "id": "16052eaf-57eb-4315-a2cd-d5a5507999b1",
   "metadata": {},
   "outputs": [],
   "source": [
    "from president_speech.db.parquet_interpreter import read_parquet, get_parquet_full_path"
   ]
  },
  {
   "cell_type": "code",
   "execution_count": 2,
   "id": "e211ae4a-6203-4aa2-acda-8e4d7b92088b",
   "metadata": {},
   "outputs": [],
   "source": [
    "data_path = get_parquet_full_path()"
   ]
  },
  {
   "cell_type": "code",
   "execution_count": 3,
   "id": "2bccdcd8-dd67-40ea-8412-1fc5d2b18cbf",
   "metadata": {},
   "outputs": [],
   "source": [
    "import pandas as pd"
   ]
  },
  {
   "cell_type": "code",
   "execution_count": 5,
   "id": "81b4ad76-26c7-4543-8a35-385fff95f86b",
   "metadata": {},
   "outputs": [],
   "source": [
    "df = pd.read_parquet(data_path)"
   ]
  },
  {
   "cell_type": "code",
   "execution_count": 6,
   "id": "9868b2f5-f99d-4832-993b-812189f66a91",
   "metadata": {},
   "outputs": [
    {
     "data": {
      "text/html": [
       "<div>\n",
       "<style scoped>\n",
       "    .dataframe tbody tr th:only-of-type {\n",
       "        vertical-align: middle;\n",
       "    }\n",
       "\n",
       "    .dataframe tbody tr th {\n",
       "        vertical-align: top;\n",
       "    }\n",
       "\n",
       "    .dataframe thead th {\n",
       "        text-align: right;\n",
       "    }\n",
       "</style>\n",
       "<table border=\"1\" class=\"dataframe\">\n",
       "  <thead>\n",
       "    <tr style=\"text-align: right;\">\n",
       "      <th></th>\n",
       "      <th>division_number</th>\n",
       "      <th>president</th>\n",
       "      <th>title</th>\n",
       "      <th>date</th>\n",
       "      <th>location</th>\n",
       "      <th>kind</th>\n",
       "      <th>speech_text</th>\n",
       "    </tr>\n",
       "  </thead>\n",
       "  <tbody>\n",
       "    <tr>\n",
       "      <th>5368</th>\n",
       "      <td>1305368</td>\n",
       "      <td>박정희</td>\n",
       "      <td>제5대 대통령 취임식 대통령 취임사</td>\n",
       "      <td>1963.12.17</td>\n",
       "      <td>국내</td>\n",
       "      <td>취임사</td>\n",
       "      <td>\\n\\n\\n단군성조가 천혜의 이 강토 위에 국기를 닦으신지 반만년, 연면히 이어온 ...</td>\n",
       "    </tr>\n",
       "    <tr>\n",
       "      <th>5369</th>\n",
       "      <td>1305369</td>\n",
       "      <td>박정희</td>\n",
       "      <td>국회 개회식 치사</td>\n",
       "      <td>1963.12.17</td>\n",
       "      <td>국내</td>\n",
       "      <td>기념사</td>\n",
       "      <td>존경하는 국회의장, 의원제위 그리고 내외귀빈 여러분! 오늘 이 뜻깊은 제3공화국의...</td>\n",
       "    </tr>\n",
       "    <tr>\n",
       "      <th>5370</th>\n",
       "      <td>1305370</td>\n",
       "      <td>박정희</td>\n",
       "      <td>신년 메시지</td>\n",
       "      <td>1964.01.01</td>\n",
       "      <td>국내</td>\n",
       "      <td>신년사</td>\n",
       "      <td>친애하는 국내외의 동포 여러분! 혁명의 고된 시련을 겪고 민정이양으로 매듭을 지은...</td>\n",
       "    </tr>\n",
       "  </tbody>\n",
       "</table>\n",
       "</div>"
      ],
      "text/plain": [
       "      division_number president                title        date location  \\\n",
       "5368          1305368       박정희  제5대 대통령 취임식 대통령 취임사  1963.12.17       국내   \n",
       "5369          1305369       박정희            국회 개회식 치사  1963.12.17       국내   \n",
       "5370          1305370       박정희               신년 메시지  1964.01.01       국내   \n",
       "\n",
       "     kind                                        speech_text  \n",
       "5368  취임사  \\n\\n\\n단군성조가 천혜의 이 강토 위에 국기를 닦으신지 반만년, 연면히 이어온 ...  \n",
       "5369  기념사   존경하는 국회의장, 의원제위 그리고 내외귀빈 여러분! 오늘 이 뜻깊은 제3공화국의...  \n",
       "5370  신년사   친애하는 국내외의 동포 여러분! 혁명의 고된 시련을 겪고 민정이양으로 매듭을 지은...  "
      ]
     },
     "execution_count": 6,
     "metadata": {},
     "output_type": "execute_result"
    }
   ],
   "source": [
    "df.head(3)"
   ]
  },
  {
   "cell_type": "code",
   "execution_count": 7,
   "id": "7a9d4e06-6fcf-4747-90e9-2b86b19c94b1",
   "metadata": {},
   "outputs": [
    {
     "data": {
      "text/html": [
       "<div>\n",
       "<style scoped>\n",
       "    .dataframe tbody tr th:only-of-type {\n",
       "        vertical-align: middle;\n",
       "    }\n",
       "\n",
       "    .dataframe tbody tr th {\n",
       "        vertical-align: top;\n",
       "    }\n",
       "\n",
       "    .dataframe thead th {\n",
       "        text-align: right;\n",
       "    }\n",
       "</style>\n",
       "<table border=\"1\" class=\"dataframe\">\n",
       "  <thead>\n",
       "    <tr style=\"text-align: right;\">\n",
       "      <th></th>\n",
       "      <th>division_number</th>\n",
       "      <th>president</th>\n",
       "      <th>title</th>\n",
       "      <th>date</th>\n",
       "      <th>location</th>\n",
       "      <th>kind</th>\n",
       "      <th>speech_text</th>\n",
       "    </tr>\n",
       "  </thead>\n",
       "  <tbody>\n",
       "    <tr>\n",
       "      <th>102589</th>\n",
       "      <td>1401989</td>\n",
       "      <td>문재인</td>\n",
       "      <td>수석·보좌관회의</td>\n",
       "      <td>2021.04.19</td>\n",
       "      <td>국내</td>\n",
       "      <td>회의</td>\n",
       "      <td>우리 정부 임기 마지막 날까지 흔들림 없이 국민과 역사가 부여한 책무를 다하자는 다...</td>\n",
       "    </tr>\n",
       "    <tr>\n",
       "      <th>102590</th>\n",
       "      <td>1401990</td>\n",
       "      <td>문재인</td>\n",
       "      <td>수석·보좌관회의</td>\n",
       "      <td>2021.04.26</td>\n",
       "      <td>국내</td>\n",
       "      <td>회의</td>\n",
       "      <td>코로나19와 같은 감염병의 세계적 대유행은 어느 한 나라가 자국의 문제를 해결한다고...</td>\n",
       "    </tr>\n",
       "    <tr>\n",
       "      <th>102591</th>\n",
       "      <td>1401991</td>\n",
       "      <td>문재인</td>\n",
       "      <td>제18회 국무회의</td>\n",
       "      <td>2021.04.27</td>\n",
       "      <td>국내</td>\n",
       "      <td>회의</td>\n",
       "      <td>오늘 한국은행이 발표한 1분기 GDP 속보치에 따르면 우리 경제는 올해 1분기에 이...</td>\n",
       "    </tr>\n",
       "  </tbody>\n",
       "</table>\n",
       "</div>"
      ],
      "text/plain": [
       "        division_number president      title        date location kind  \\\n",
       "102589          1401989       문재인   수석·보좌관회의  2021.04.19       국내   회의   \n",
       "102590          1401990       문재인   수석·보좌관회의  2021.04.26       국내   회의   \n",
       "102591          1401991       문재인  제18회 국무회의  2021.04.27       국내   회의   \n",
       "\n",
       "                                              speech_text  \n",
       "102589  우리 정부 임기 마지막 날까지 흔들림 없이 국민과 역사가 부여한 책무를 다하자는 다...  \n",
       "102590  코로나19와 같은 감염병의 세계적 대유행은 어느 한 나라가 자국의 문제를 해결한다고...  \n",
       "102591  오늘 한국은행이 발표한 1분기 GDP 속보치에 따르면 우리 경제는 올해 1분기에 이...  "
      ]
     },
     "execution_count": 7,
     "metadata": {},
     "output_type": "execute_result"
    }
   ],
   "source": [
    "df.tail(3)"
   ]
  },
  {
   "cell_type": "code",
   "execution_count": 8,
   "id": "7453312e-cc17-40a0-8c39-f0974fdb0f99",
   "metadata": {},
   "outputs": [
    {
     "data": {
      "text/plain": [
       "Index([  5368,   5369,   5370,   5371,   5372,   5373,   5374,   5375,   5376,\n",
       "         5377,\n",
       "       ...\n",
       "       102582, 102583, 102584, 102585, 102586, 102587, 102588, 102589, 102590,\n",
       "       102591],\n",
       "      dtype='int64', length=8771)"
      ]
     },
     "execution_count": 8,
     "metadata": {},
     "output_type": "execute_result"
    }
   ],
   "source": [
    "df.index"
   ]
  },
  {
   "cell_type": "code",
   "execution_count": 23,
   "id": "605e8731-3539-43a9-a1be-9f7a68738ac5",
   "metadata": {},
   "outputs": [],
   "source": [
    "# df.values[1:3]"
   ]
  },
  {
   "cell_type": "code",
   "execution_count": 24,
   "id": "04f53a43-7090-4326-be81-cf666698f377",
   "metadata": {},
   "outputs": [
    {
     "data": {
      "text/plain": [
       "pandas.core.frame.DataFrame"
      ]
     },
     "execution_count": 24,
     "metadata": {},
     "output_type": "execute_result"
    }
   ],
   "source": [
    "type(df)"
   ]
  },
  {
   "cell_type": "code",
   "execution_count": 25,
   "id": "59dc77ed-3a03-4fe4-a804-16baa07f366c",
   "metadata": {},
   "outputs": [
    {
     "data": {
      "text/plain": [
       "Index(['division_number', 'president', 'title', 'date', 'location', 'kind',\n",
       "       'speech_text'],\n",
       "      dtype='object')"
      ]
     },
     "execution_count": 25,
     "metadata": {},
     "output_type": "execute_result"
    }
   ],
   "source": [
    "df.columns"
   ]
  },
  {
   "cell_type": "code",
   "execution_count": 26,
   "id": "6525bb71-2ed7-451f-a8b1-a840601db54e",
   "metadata": {},
   "outputs": [
    {
     "data": {
      "text/html": [
       "<div>\n",
       "<style scoped>\n",
       "    .dataframe tbody tr th:only-of-type {\n",
       "        vertical-align: middle;\n",
       "    }\n",
       "\n",
       "    .dataframe tbody tr th {\n",
       "        vertical-align: top;\n",
       "    }\n",
       "\n",
       "    .dataframe thead th {\n",
       "        text-align: right;\n",
       "    }\n",
       "</style>\n",
       "<table border=\"1\" class=\"dataframe\">\n",
       "  <thead>\n",
       "    <tr style=\"text-align: right;\">\n",
       "      <th></th>\n",
       "      <th>division_number</th>\n",
       "    </tr>\n",
       "  </thead>\n",
       "  <tbody>\n",
       "    <tr>\n",
       "      <th>count</th>\n",
       "      <td>8.771000e+03</td>\n",
       "    </tr>\n",
       "    <tr>\n",
       "      <th>mean</th>\n",
       "      <td>1.330350e+06</td>\n",
       "    </tr>\n",
       "    <tr>\n",
       "      <th>std</th>\n",
       "      <td>3.749870e+04</td>\n",
       "    </tr>\n",
       "    <tr>\n",
       "      <th>min</th>\n",
       "      <td>1.305368e+06</td>\n",
       "    </tr>\n",
       "    <tr>\n",
       "      <th>25%</th>\n",
       "      <td>1.307560e+06</td>\n",
       "    </tr>\n",
       "    <tr>\n",
       "      <th>50%</th>\n",
       "      <td>1.309753e+06</td>\n",
       "    </tr>\n",
       "    <tr>\n",
       "      <th>75%</th>\n",
       "      <td>1.330362e+06</td>\n",
       "    </tr>\n",
       "    <tr>\n",
       "      <th>max</th>\n",
       "      <td>1.401991e+06</td>\n",
       "    </tr>\n",
       "  </tbody>\n",
       "</table>\n",
       "</div>"
      ],
      "text/plain": [
       "       division_number\n",
       "count     8.771000e+03\n",
       "mean      1.330350e+06\n",
       "std       3.749870e+04\n",
       "min       1.305368e+06\n",
       "25%       1.307560e+06\n",
       "50%       1.309753e+06\n",
       "75%       1.330362e+06\n",
       "max       1.401991e+06"
      ]
     },
     "execution_count": 26,
     "metadata": {},
     "output_type": "execute_result"
    }
   ],
   "source": [
    "df.describe()"
   ]
  },
  {
   "cell_type": "code",
   "execution_count": 28,
   "id": "927143ee-2eb1-4904-8d09-e21d87aabef2",
   "metadata": {},
   "outputs": [],
   "source": [
    "dft = df.T"
   ]
  },
  {
   "cell_type": "code",
   "execution_count": 34,
   "id": "a42cd56f-6dcd-4a68-8884-7d239de387f5",
   "metadata": {},
   "outputs": [
    {
     "data": {
      "text/html": [
       "<div>\n",
       "<style scoped>\n",
       "    .dataframe tbody tr th:only-of-type {\n",
       "        vertical-align: middle;\n",
       "    }\n",
       "\n",
       "    .dataframe tbody tr th {\n",
       "        vertical-align: top;\n",
       "    }\n",
       "\n",
       "    .dataframe thead th {\n",
       "        text-align: right;\n",
       "    }\n",
       "</style>\n",
       "<table border=\"1\" class=\"dataframe\">\n",
       "  <thead>\n",
       "    <tr style=\"text-align: right;\">\n",
       "      <th></th>\n",
       "      <th>division_number</th>\n",
       "      <th>president</th>\n",
       "      <th>title</th>\n",
       "      <th>date</th>\n",
       "      <th>location</th>\n",
       "      <th>kind</th>\n",
       "      <th>speech_text</th>\n",
       "    </tr>\n",
       "  </thead>\n",
       "  <tbody>\n",
       "    <tr>\n",
       "      <th>8763</th>\n",
       "      <td>1308731</td>\n",
       "      <td>김대중</td>\n",
       "      <td>새천년준비위원 위촉장 수여 및 오찬 말씀(새천년에 가장 중요한 것은 의식개혁)</td>\n",
       "      <td>1999.04.12</td>\n",
       "      <td>국내</td>\n",
       "      <td>기념사</td>\n",
       "      <td>여러분께서 이번에 새천년을 앞두고 우리의 운명을 생각하는 막중한 대임을 맡게 되었습...</td>\n",
       "    </tr>\n",
       "    <tr>\n",
       "      <th>8941</th>\n",
       "      <td>1308909</td>\n",
       "      <td>김대중</td>\n",
       "      <td>제78회 어린이날 축하 메시지(꿈을 가진 사람만이 내일을 만듭니다)</td>\n",
       "      <td>2000.05.05</td>\n",
       "      <td>국내</td>\n",
       "      <td>기념사</td>\n",
       "      <td>사랑하는 어린이 여러분 일흔여덟번째 어린이날을 축하합니다. 오늘은 새천년의 첫 번째...</td>\n",
       "    </tr>\n",
       "    <tr>\n",
       "      <th>8942</th>\n",
       "      <td>1308910</td>\n",
       "      <td>김대중</td>\n",
       "      <td>알레만 니카라과 대통령 내외를 위한 만찬연설(니카라과는 새천년 공동번영의 동반자)</td>\n",
       "      <td>2000.05.15</td>\n",
       "      <td>국내</td>\n",
       "      <td>환영사</td>\n",
       "      <td>알레만 니카라과 대통령 각하 내외분,그리고 내외 귀빈 여러분! 먼 여로를 마다치 않...</td>\n",
       "    </tr>\n",
       "    <tr>\n",
       "      <th>8943</th>\n",
       "      <td>1308911</td>\n",
       "      <td>김대중</td>\n",
       "      <td>미국 경제전략연구소(ESI) 포럼 개막식 기조연설(21세기 글로벌화의 혜택과 대가)</td>\n",
       "      <td>2000.05.15</td>\n",
       "      <td>국제</td>\n",
       "      <td>성명/담화문</td>\n",
       "      <td>\\r\\n \\r\\n대통령 기조 연설문 \\n\\r\\n&lt; 모두말씀 &gt; \\n\\r\\n친애하는 ...</td>\n",
       "    </tr>\n",
       "    <tr>\n",
       "      <th>8944</th>\n",
       "      <td>1308912</td>\n",
       "      <td>김대중</td>\n",
       "      <td>ASEM 컨벤션센터 개관식연설(개방형 신통상국가를 열어갑시다)</td>\n",
       "      <td>2000.05.16</td>\n",
       "      <td>국내</td>\n",
       "      <td>기타</td>\n",
       "      <td>\\r\\n \\r\\n존경하는 국민 여러분,\\n\\r\\n그리고 이 자리에 참석하신 내외귀빈...</td>\n",
       "    </tr>\n",
       "  </tbody>\n",
       "</table>\n",
       "</div>"
      ],
      "text/plain": [
       "      division_number president  \\\n",
       "8763          1308731       김대중   \n",
       "8941          1308909       김대중   \n",
       "8942          1308910       김대중   \n",
       "8943          1308911       김대중   \n",
       "8944          1308912       김대중   \n",
       "\n",
       "                                               title        date location  \\\n",
       "8763     새천년준비위원 위촉장 수여 및 오찬 말씀(새천년에 가장 중요한 것은 의식개혁)  1999.04.12       국내   \n",
       "8941           제78회 어린이날 축하 메시지(꿈을 가진 사람만이 내일을 만듭니다)  2000.05.05       국내   \n",
       "8942   알레만 니카라과 대통령 내외를 위한 만찬연설(니카라과는 새천년 공동번영의 동반자)  2000.05.15       국내   \n",
       "8943  미국 경제전략연구소(ESI) 포럼 개막식 기조연설(21세기 글로벌화의 혜택과 대가)  2000.05.15       국제   \n",
       "8944              ASEM 컨벤션센터 개관식연설(개방형 신통상국가를 열어갑시다)  2000.05.16       국내   \n",
       "\n",
       "        kind                                        speech_text  \n",
       "8763     기념사  여러분께서 이번에 새천년을 앞두고 우리의 운명을 생각하는 막중한 대임을 맡게 되었습...  \n",
       "8941     기념사  사랑하는 어린이 여러분 일흔여덟번째 어린이날을 축하합니다. 오늘은 새천년의 첫 번째...  \n",
       "8942     환영사  알레만 니카라과 대통령 각하 내외분,그리고 내외 귀빈 여러분! 먼 여로를 마다치 않...  \n",
       "8943  성명/담화문  \\r\\n \\r\\n대통령 기조 연설문 \\n\\r\\n< 모두말씀 > \\n\\r\\n친애하는 ...  \n",
       "8944      기타  \\r\\n \\r\\n존경하는 국민 여러분,\\n\\r\\n그리고 이 자리에 참석하신 내외귀빈...  "
      ]
     },
     "execution_count": 34,
     "metadata": {},
     "output_type": "execute_result"
    }
   ],
   "source": [
    "df.sort_values(by='president').head()"
   ]
  },
  {
   "cell_type": "code",
   "execution_count": 35,
   "id": "2ecd592e-8456-4ae6-9297-bc35c6571246",
   "metadata": {},
   "outputs": [],
   "source": [
    "# df"
   ]
  },
  {
   "cell_type": "code",
   "execution_count": null,
   "id": "d0880eb9-9955-458a-8455-dd593c256db1",
   "metadata": {},
   "outputs": [],
   "source": []
  }
 ],
 "metadata": {
  "kernelspec": {
   "display_name": "Python 3 (ipykernel)",
   "language": "python",
   "name": "python3"
  },
  "language_info": {
   "codemirror_mode": {
    "name": "ipython",
    "version": 3
   },
   "file_extension": ".py",
   "mimetype": "text/x-python",
   "name": "python",
   "nbconvert_exporter": "python",
   "pygments_lexer": "ipython3",
   "version": "3.10.12"
  }
 },
 "nbformat": 4,
 "nbformat_minor": 5
}
