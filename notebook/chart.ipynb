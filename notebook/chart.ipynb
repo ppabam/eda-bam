{
 "cells": [
  {
   "cell_type": "code",
   "execution_count": 4,
   "id": "1e8f4870-2765-4e45-8325-bff5253d4679",
   "metadata": {},
   "outputs": [],
   "source": [
    "from president_speech.db.parquet_interpreter import read_parquet\n",
    "import pandas as pd"
   ]
  },
  {
   "cell_type": "code",
   "execution_count": 5,
   "id": "ddebd4a9-5a76-4ccb-bb97-8a251efa8262",
   "metadata": {},
   "outputs": [
    {
     "data": {
      "text/plain": [
       "division_number     int64\n",
       "president          object\n",
       "title              object\n",
       "date               object\n",
       "location           object\n",
       "kind               object\n",
       "speech_text        object\n",
       "dtype: object"
      ]
     },
     "execution_count": 5,
     "metadata": {},
     "output_type": "execute_result"
    }
   ],
   "source": [
    "df = read_parquet()\n",
    "df.dtypes"
   ]
  },
  {
   "cell_type": "code",
   "execution_count": 58,
   "id": "4f11e6ae-ca8a-4550-a5d9-ea89b837aa8a",
   "metadata": {},
   "outputs": [
    {
     "data": {
      "text/plain": [
       "array(['취임사', '기념사', '신년사', '성명/담화문', '국회연설', '환영사', '기타', '만찬사', '축사',\n",
       "       '회의'], dtype=object)"
      ]
     },
     "execution_count": 58,
     "metadata": {},
     "output_type": "execute_result"
    }
   ],
   "source": [
    "df['kind'].unique()"
   ]
  },
  {
   "cell_type": "code",
   "execution_count": 8,
   "id": "28252ba6-c35d-405a-bc1a-b1869d8685d2",
   "metadata": {},
   "outputs": [
    {
     "data": {
      "text/plain": [
       "5368    1963.12.17\n",
       "Name: date, dtype: object"
      ]
     },
     "execution_count": 8,
     "metadata": {},
     "output_type": "execute_result"
    }
   ],
   "source": [
    "df['date'].head(1)"
   ]
  },
  {
   "cell_type": "code",
   "execution_count": 10,
   "id": "187325cc-65b4-49d7-b3a5-41437996c53f",
   "metadata": {},
   "outputs": [],
   "source": [
    "# 날짜를 datetime 형식으로 변환\n",
    "# df['date'] = pd.to_datetime(df['date']) #  ISO 8601 형식(예: YYYY-MM-DD) 일때\n",
    "#df['date'] = pd.to_datetime(df['date'], format='%Y.%m.%d') #ValueError: time data \"1964\" doesn't match format \"%Y.%m.%d\", at position 3. You might want to try:\n"
   ]
  },
  {
   "cell_type": "code",
   "execution_count": 14,
   "id": "845a3851-3038-440d-ba4d-7356b8a2bfe0",
   "metadata": {},
   "outputs": [
    {
     "name": "stdout",
     "output_type": "stream",
     "text": [
      "1964\n",
      "1981.12\n",
      "1982.02\n",
      "1982.05\n",
      "1993.03\n",
      "1993.04\n",
      "1993.06\n",
      "1950\n",
      "1951\n",
      "1952\n",
      "1953\n",
      "1954\n",
      "1955\n",
      "1956\n",
      "1957\n",
      "1958\n",
      "1948.11\n",
      "1948.12\n",
      "1948\n",
      "1949.07\n",
      "1950.02\n",
      "1950.03\n",
      "1950.04\n",
      "1950.05\n",
      "1952.01\n",
      "1955.07\n",
      "1955.10\n",
      "1955.11\n",
      "1956.01\n",
      "1956.02\n",
      "1956.03\n",
      "1956.05\n",
      "1956.12\n",
      "1957.02\n",
      "1992.02\n",
      "1992.03\n",
      "1992.04\n",
      "1992.06\n",
      "\n"
     ]
    }
   ],
   "source": [
    "# 필터 조건: '.'이 없거나 길이가 10이 아닌 경우\n",
    "invalid_dates = df[~df['date'].str.contains(r'\\.', na=False) | (df['date'].str.len() != 10)]\n",
    "\n",
    "for d in invalid_dates['date'].unique():\n",
    "    print(d)"
   ]
  },
  {
   "cell_type": "code",
   "execution_count": 18,
   "id": "2cf8f2c7-872b-43f8-965d-153c8d9bd3e7",
   "metadata": {},
   "outputs": [
    {
     "data": {
      "text/html": [
       "<div>\n",
       "<style scoped>\n",
       "    .dataframe tbody tr th:only-of-type {\n",
       "        vertical-align: middle;\n",
       "    }\n",
       "\n",
       "    .dataframe tbody tr th {\n",
       "        vertical-align: top;\n",
       "    }\n",
       "\n",
       "    .dataframe thead th {\n",
       "        text-align: right;\n",
       "    }\n",
       "</style>\n",
       "<table border=\"1\" class=\"dataframe\">\n",
       "  <thead>\n",
       "    <tr style=\"text-align: right;\">\n",
       "      <th></th>\n",
       "      <th>division_number</th>\n",
       "      <th>president</th>\n",
       "      <th>title</th>\n",
       "      <th>date</th>\n",
       "      <th>location</th>\n",
       "      <th>kind</th>\n",
       "      <th>speech_text</th>\n",
       "      <th>dt</th>\n",
       "    </tr>\n",
       "  </thead>\n",
       "  <tbody>\n",
       "    <tr>\n",
       "      <th>5368</th>\n",
       "      <td>1305368</td>\n",
       "      <td>박정희</td>\n",
       "      <td>제5대 대통령 취임식 대통령 취임사</td>\n",
       "      <td>1963.12.17</td>\n",
       "      <td>국내</td>\n",
       "      <td>취임사</td>\n",
       "      <td>\\n\\n\\n단군성조가 천혜의 이 강토 위에 국기를 닦으신지 반만년, 연면히 이어온 ...</td>\n",
       "      <td>1963-12-17</td>\n",
       "    </tr>\n",
       "    <tr>\n",
       "      <th>5369</th>\n",
       "      <td>1305369</td>\n",
       "      <td>박정희</td>\n",
       "      <td>국회 개회식 치사</td>\n",
       "      <td>1963.12.17</td>\n",
       "      <td>국내</td>\n",
       "      <td>기념사</td>\n",
       "      <td>존경하는 국회의장, 의원제위 그리고 내외귀빈 여러분! 오늘 이 뜻깊은 제3공화국의...</td>\n",
       "      <td>1963-12-17</td>\n",
       "    </tr>\n",
       "    <tr>\n",
       "      <th>5370</th>\n",
       "      <td>1305370</td>\n",
       "      <td>박정희</td>\n",
       "      <td>신년 메시지</td>\n",
       "      <td>1964.01.01</td>\n",
       "      <td>국내</td>\n",
       "      <td>신년사</td>\n",
       "      <td>친애하는 국내외의 동포 여러분! 혁명의 고된 시련을 겪고 민정이양으로 매듭을 지은...</td>\n",
       "      <td>1964-01-01</td>\n",
       "    </tr>\n",
       "  </tbody>\n",
       "</table>\n",
       "</div>"
      ],
      "text/plain": [
       "      division_number president                title        date location  \\\n",
       "5368          1305368       박정희  제5대 대통령 취임식 대통령 취임사  1963.12.17       국내   \n",
       "5369          1305369       박정희            국회 개회식 치사  1963.12.17       국내   \n",
       "5370          1305370       박정희               신년 메시지  1964.01.01       국내   \n",
       "\n",
       "     kind                                        speech_text         dt  \n",
       "5368  취임사  \\n\\n\\n단군성조가 천혜의 이 강토 위에 국기를 닦으신지 반만년, 연면히 이어온 ... 1963-12-17  \n",
       "5369  기념사   존경하는 국회의장, 의원제위 그리고 내외귀빈 여러분! 오늘 이 뜻깊은 제3공화국의... 1963-12-17  \n",
       "5370  신년사   친애하는 국내외의 동포 여러분! 혁명의 고된 시련을 겪고 민정이양으로 매듭을 지은... 1964-01-01  "
      ]
     },
     "execution_count": 18,
     "metadata": {},
     "output_type": "execute_result"
    }
   ],
   "source": [
    "# 데이터 클린징\n",
    "def parse_date(date):\n",
    "    if(len(date) == 10):\n",
    "        return pd.to_datetime(date, format='%Y.%m.%d')\n",
    "\n",
    "    if(len(date) == 7):\n",
    "        return pd.to_datetime(date, format='%Y.%m')\n",
    "\n",
    "    if(len(date) == 4):\n",
    "        return pd.to_datetime(date, format='%Y')\n",
    "\n",
    "    return pd.NaT\n",
    "\n",
    "df['dt'] = df['date'].apply(parse_date)\n",
    "df.head(3)\n",
    "    "
   ]
  },
  {
   "cell_type": "code",
   "execution_count": 22,
   "id": "c10596dd-d53c-48d6-bf04-4e865a70204a",
   "metadata": {},
   "outputs": [
    {
     "data": {
      "text/html": [
       "<div>\n",
       "<style scoped>\n",
       "    .dataframe tbody tr th:only-of-type {\n",
       "        vertical-align: middle;\n",
       "    }\n",
       "\n",
       "    .dataframe tbody tr th {\n",
       "        vertical-align: top;\n",
       "    }\n",
       "\n",
       "    .dataframe thead th {\n",
       "        text-align: right;\n",
       "    }\n",
       "</style>\n",
       "<table border=\"1\" class=\"dataframe\">\n",
       "  <thead>\n",
       "    <tr style=\"text-align: right;\">\n",
       "      <th></th>\n",
       "      <th>president</th>\n",
       "      <th>date</th>\n",
       "      <th>dt</th>\n",
       "    </tr>\n",
       "  </thead>\n",
       "  <tbody>\n",
       "    <tr>\n",
       "      <th>29880</th>\n",
       "      <td>이명박</td>\n",
       "      <td></td>\n",
       "      <td>NaT</td>\n",
       "    </tr>\n",
       "    <tr>\n",
       "      <th>29882</th>\n",
       "      <td>이명박</td>\n",
       "      <td></td>\n",
       "      <td>NaT</td>\n",
       "    </tr>\n",
       "    <tr>\n",
       "      <th>29886</th>\n",
       "      <td>이명박</td>\n",
       "      <td></td>\n",
       "      <td>NaT</td>\n",
       "    </tr>\n",
       "    <tr>\n",
       "      <th>29887</th>\n",
       "      <td>이명박</td>\n",
       "      <td></td>\n",
       "      <td>NaT</td>\n",
       "    </tr>\n",
       "    <tr>\n",
       "      <th>29888</th>\n",
       "      <td>이명박</td>\n",
       "      <td></td>\n",
       "      <td>NaT</td>\n",
       "    </tr>\n",
       "    <tr>\n",
       "      <th>...</th>\n",
       "      <td>...</td>\n",
       "      <td>...</td>\n",
       "      <td>...</td>\n",
       "    </tr>\n",
       "    <tr>\n",
       "      <th>30095</th>\n",
       "      <td>이명박</td>\n",
       "      <td></td>\n",
       "      <td>NaT</td>\n",
       "    </tr>\n",
       "    <tr>\n",
       "      <th>30096</th>\n",
       "      <td>이명박</td>\n",
       "      <td></td>\n",
       "      <td>NaT</td>\n",
       "    </tr>\n",
       "    <tr>\n",
       "      <th>30097</th>\n",
       "      <td>이명박</td>\n",
       "      <td></td>\n",
       "      <td>NaT</td>\n",
       "    </tr>\n",
       "    <tr>\n",
       "      <th>30705</th>\n",
       "      <td>이명박</td>\n",
       "      <td></td>\n",
       "      <td>NaT</td>\n",
       "    </tr>\n",
       "    <tr>\n",
       "      <th>30706</th>\n",
       "      <td>이명박</td>\n",
       "      <td></td>\n",
       "      <td>NaT</td>\n",
       "    </tr>\n",
       "  </tbody>\n",
       "</table>\n",
       "<p>208 rows × 3 columns</p>\n",
       "</div>"
      ],
      "text/plain": [
       "      president date  dt\n",
       "29880       이명박      NaT\n",
       "29882       이명박      NaT\n",
       "29886       이명박      NaT\n",
       "29887       이명박      NaT\n",
       "29888       이명박      NaT\n",
       "...         ...  ...  ..\n",
       "30095       이명박      NaT\n",
       "30096       이명박      NaT\n",
       "30097       이명박      NaT\n",
       "30705       이명박      NaT\n",
       "30706       이명박      NaT\n",
       "\n",
       "[208 rows x 3 columns]"
      ]
     },
     "execution_count": 22,
     "metadata": {},
     "output_type": "execute_result"
    }
   ],
   "source": [
    "# 변환 실패한 날짜 확인\n",
    "invalid_dt = df[df['dt'].isna()]\n",
    "invalid_dt[['president', 'date', 'dt']]\n",
    "# if not invalid_dates.empty:\n",
    "#     print(\"잘못된 날짜 형식:\")\n",
    "#     print(invalid_dates[')"
   ]
  },
  {
   "cell_type": "code",
   "execution_count": 30,
   "id": "0e4b84db-67ee-4576-bbba-a33256328ee5",
   "metadata": {},
   "outputs": [
    {
     "name": "stdout",
     "output_type": "stream",
     "text": [
      "이명박 대통령의 결측값 비율: 20.25%\n",
      "이명박 대통령의 결측값 아닌 비율: 79.75%\n"
     ]
    }
   ],
   "source": [
    "# 이명박 대통령 데이터만 필터링\n",
    "mb_president_data = df[df['president'] == '이명박']\n",
    "\n",
    "# 결측값이 있는 행\n",
    "invalid_mb = mb_president_data[mb_president_data['dt'].isna()]\n",
    "\n",
    "# 결측값이 아닌 행\n",
    "valid_mb = mb_president_data[mb_president_data['dt'].notna()]\n",
    "\n",
    "# 결측값과 결측값 아닌 비율 계산\n",
    "invalid_ratio = len(invalid_mb) / len(mb_president_data) * 100\n",
    "valid_ratio = len(valid_mb) / len(mb_president_data) * 100\n",
    "\n",
    "print(f\"이명박 대통령의 결측값 비율: {invalid_ratio:.2f}%\")\n",
    "print(f\"이명박 대통령의 결측값 아닌 비율: {valid_ratio:.2f}%\")"
   ]
  },
  {
   "cell_type": "code",
   "execution_count": 31,
   "id": "65329749-a36b-4348-ad8c-f4a37c1c4272",
   "metadata": {},
   "outputs": [
    {
     "name": "stdout",
     "output_type": "stream",
     "text": [
      "이명박 대통령의 dt 열에서 결측값 아닌 최대값: 2013-02-07 00:00:00\n",
      "이명박 대통령의 dt 열에서 결측값 아닌 최소값: 2008-02-25 00:00:00\n"
     ]
    }
   ],
   "source": [
    "# 결측값이 아닌 이명박 대통령 데이터\n",
    "valid_mb = mb_president_data[mb_president_data['dt'].notna()]\n",
    "\n",
    "# 결측값 아닌 값들의 최대값과 최소값 계산\n",
    "max_date = valid_mb['dt'].max()\n",
    "min_date = valid_mb['dt'].min()\n",
    "\n",
    "print(f\"이명박 대통령의 dt 열에서 결측값 아닌 최대값: {max_date}\")\n",
    "print(f\"이명박 대통령의 dt 열에서 결측값 아닌 최소값: {min_date}\")"
   ]
  },
  {
   "cell_type": "code",
   "execution_count": 32,
   "id": "7870e48b-abf7-48c9-a2c8-55420440cfc6",
   "metadata": {},
   "outputs": [
    {
     "data": {
      "text/plain": [
       "array(['이명박'], dtype=object)"
      ]
     },
     "execution_count": 32,
     "metadata": {},
     "output_type": "execute_result"
    }
   ],
   "source": [
    "# 결측값이 있는 대통량의 유니크\n",
    "invalid_dt['president'].unique()"
   ]
  },
  {
   "cell_type": "code",
   "execution_count": 70,
   "id": "5dc38b53-dcbe-43c2-bda5-6ddae2d664c0",
   "metadata": {},
   "outputs": [
    {
     "data": {
      "text/plain": [
       "5368    1963\n",
       "Name: year, dtype: Int64"
      ]
     },
     "execution_count": 70,
     "metadata": {},
     "output_type": "execute_result"
    }
   ],
   "source": [
    "df['year'] = df['dt'].dt.year.astype('Int64')\n",
    "# df['year'] = df['dt'].dt.year.fillna(0).astype(int)\n",
    "df.head(1)['year']"
   ]
  },
  {
   "cell_type": "code",
   "execution_count": 71,
   "id": "9c454029-573b-4421-aae7-b149172ffab0",
   "metadata": {},
   "outputs": [
    {
     "data": {
      "text/plain": [
       "division_number              int64\n",
       "president                   object\n",
       "title                       object\n",
       "date                        object\n",
       "location                    object\n",
       "kind                        object\n",
       "speech_text                 object\n",
       "dt                  datetime64[ns]\n",
       "year                         Int64\n",
       "dt_isna                      int64\n",
       "freedom_mentions             int64\n",
       "dtype: object"
      ]
     },
     "execution_count": 71,
     "metadata": {},
     "output_type": "execute_result"
    }
   ],
   "source": [
    "df.dtypes"
   ]
  },
  {
   "cell_type": "markdown",
   "id": "806f39f2-ce22-4512-87f5-17d342aeea48",
   "metadata": {},
   "source": [
    "### 주요 차이점 요약\n",
    "\n",
    "\n",
    "| **특징**                | `.astype(int)`                  | `.astype('Int64')`                 |\n",
    "|-------------------------|--------------------------------|-----------------------------------|\n",
    "| **결측값 처리**          | `NaN`이 있으면 오류 발생         | `NaN`을 허용하며 `<NA>`로 유지      |\n",
    "| **사용 시점**            | 모든 값이 유효한 숫자일 때 사용    | 결측값을 포함한 데이터를 처리할 때 사용 |\n",
    "| **데이터 타입**          | 표준 Python 정수(`int64`)       | pandas Nullable Integer (`Int64`) |\n",
    "| **호환성**              | Python의 표준 연산과 호환         | `pandas`에서 더 유연하게 사용 가능    |\n"
   ]
  },
  {
   "cell_type": "code",
   "execution_count": 33,
   "id": "360a7c6b-6457-44d8-8d9a-32e28a886d19",
   "metadata": {},
   "outputs": [],
   "source": [
    "# 결정 - 이명박 데이터는 날짜가 빠신 곳은 중간 중간 있다\n",
    "# import pandas as pd\n",
    "# import numpy as np\n",
    "# import random\n",
    "\n",
    "# # 이명박 대통령 재임 기간\n",
    "# start_date = pd.to_datetime(\"2008-02-25\")\n",
    "# end_date = pd.to_datetime(\"2013-02-25\")\n",
    "\n",
    "# # 랜덤 날짜 생성 함수\n",
    "# def random_date_in_range(start, end):\n",
    "#     random_timestamp = random.randint(start.value, end.value)\n",
    "#     return pd.to_datetime(random_timestamp)\n",
    "\n",
    "# # 결측값이 있는 경우 랜덤 날짜를 채우기\n",
    "# df['dt'] = df['dt'].apply(\n",
    "#     lambda x: random_date_in_range(start_date, end_date) if pd.isna(x) else x\n",
    "# )"
   ]
  },
  {
   "cell_type": "code",
   "execution_count": 41,
   "id": "a1b9e8dc-606d-401d-80e1-f6653ab796e8",
   "metadata": {},
   "outputs": [
    {
     "data": {
      "image/png": "[encoded data removed]",
      "text/plain": [
       "<Figure size 1000x600 with 1 Axes>"
      ]
     },
     "metadata": {},
     "output_type": "display_data"
    }
   ],
   "source": [
    "# 중간에 빠진 것이 있을까 확인\n",
    "import matplotlib.pyplot as plt\n",
    "\n",
    "# 이명박 대통령 데이터만 필터링\n",
    "mb_president_data = df[df['president'] == '이명박']\n",
    "\n",
    "# 결측값이 아닌 데이터만 필터링\n",
    "valid_mb_data = mb_president_data[mb_president_data['dt'].notna()].copy()  # 복사본 생성\n",
    "\n",
    "# 'dt' 열을 월 단위로 변환 (loc를 사용)\n",
    "valid_mb_data.loc[:, 'month'] = valid_mb_data['dt'].dt.to_period('M')\n",
    "\n",
    "# 월별 정상적인 데이터 갯수 계산\n",
    "count_by_month = valid_mb_data.groupby('month').size()\n",
    "\n",
    "# 바 차트 그리기\n",
    "plt.figure(figsize=(10, 6))\n",
    "count_by_month.plot(kind='bar', color='skyblue')\n",
    "\n",
    "plt.title('Valid Data Count by Month for MB President')\n",
    "plt.xlabel('Month')\n",
    "plt.ylabel('Valid Data Count')\n",
    "plt.xticks(rotation=45)\n",
    "plt.grid(True)\n",
    "plt.show()"
   ]
  },
  {
   "cell_type": "code",
   "execution_count": 63,
   "id": "114768d1-b456-45f3-b8d6-0ee8b70cccf9",
   "metadata": {},
   "outputs": [],
   "source": [
    "# TODO 자유 말고 다른건?\n",
    "keyword = \"핵무기\""
   ]
  },
  {
   "cell_type": "code",
   "execution_count": 64,
   "id": "18b79b25-4e7f-4af0-b551-df9ea6c2a7bd",
   "metadata": {},
   "outputs": [
    {
     "data": {
      "image/png": "[encoded data removed]",
      "text/plain": [
       "<Figure size 1000x600 with 2 Axes>"
      ]
     },
     "metadata": {},
     "output_type": "display_data"
    }
   ],
   "source": [
    "import matplotlib.pyplot as plt\n",
    "\n",
    "# 'dt' 열을 연도로 변환\n",
    "# df['year'] = df['dt'].dt.year\n",
    "\n",
    "# 'speech_text' 열에서 '자유'라는 단어가 포함된 행을 필터링\n",
    "df['freedom_mentions'] = df['speech_text'].str.count(keyword)\n",
    "\n",
    "# 연도별로 \"자유\" 단어가 포함된 행의 수 (count)와 \"자유\"라는 단어가 언급된 횟수 (total_mentions)\n",
    "count_by_year = df.groupby('year')['freedom_mentions'].apply(lambda x: (x > 0).sum())  # '자유'가 포함된 행의 수\n",
    "total_mentions_by_year = df.groupby('year')['freedom_mentions'].sum()  # '자유' 단어가 언급된 총 횟수\n",
    "\n",
    "# 두 그래프를 하나의 차트에 그리기\n",
    "fig, ax1 = plt.subplots(figsize=(10, 6))\n",
    "\n",
    "# 자유 단어가 포함된 행의 수를 첫 번째 y축에 나타냄\n",
    "ax1.bar(count_by_year.index, count_by_year, width=0.4, color='skyblue', label=\"Count of 'word' Mentions\", align='center')\n",
    "ax1.set_xlabel('Year')\n",
    "ax1.set_ylabel('Count of \"WORD\" Mentions', color='skyblue')\n",
    "ax1.tick_params(axis='y', labelcolor='skyblue')\n",
    "\n",
    "# 두 번째 y축 생성 (자유 단어 언급 횟수)\n",
    "ax2 = ax1.twinx()\n",
    "ax2.plot(total_mentions_by_year.index, total_mentions_by_year, color='orange', marker='o', label=\"Total Mentions of 'word'\")\n",
    "ax2.set_ylabel('Total Mentions of \"TOTAL WORD\"', color='orange')\n",
    "ax2.tick_params(axis='y', labelcolor='orange')\n",
    "\n",
    "# 제목과 라벨 설정\n",
    "plt.title('Yearly Count and Mentions of \"word/year\" in Speech Texts')\n",
    "fig.tight_layout()\n",
    "\n",
    "# 그래프 표시\n",
    "plt.show()"
   ]
  },
  {
   "cell_type": "code",
   "execution_count": null,
   "id": "df4fea2e-ec55-4082-a680-9c9cca1251f5",
   "metadata": {},
   "outputs": [],
   "source": []
  }
 ],
 "metadata": {
  "kernelspec": {
   "display_name": "Python 3 (ipykernel)",
   "language": "python",
   "name": "python3"
  },
  "language_info": {
   "codemirror_mode": {
    "name": "ipython",
    "version": 3
   },
   "file_extension": ".py",
   "mimetype": "text/x-python",
   "name": "python",
   "nbconvert_exporter": "python",
   "pygments_lexer": "ipython3",
   "version": "3.10.12"
  }
 },
 "nbformat": 4,
 "nbformat_minor": 5
}
