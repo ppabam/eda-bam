{
 "cells": [
  {
   "cell_type": "code",
   "execution_count": 7,
   "id": "65c79ebb-deed-481f-9a19-0745207c63af",
   "metadata": {},
   "outputs": [],
   "source": [
    "from president_speech.db.parquet_interpreter import read_parquet\n",
    "import pandas as pd"
   ]
  },
  {
   "cell_type": "code",
   "execution_count": 8,
   "id": "650542f9-7941-47ab-a428-50efd4e9877e",
   "metadata": {},
   "outputs": [],
   "source": [
    "df = read_parquet()"
   ]
  },
  {
   "cell_type": "code",
   "execution_count": 9,
   "id": "105e4f25-f454-48dc-b2ec-f7a416c006df",
   "metadata": {},
   "outputs": [
    {
     "data": {
      "text/html": [
       "<div>\n",
       "<style scoped>\n",
       "    .dataframe tbody tr th:only-of-type {\n",
       "        vertical-align: middle;\n",
       "    }\n",
       "\n",
       "    .dataframe tbody tr th {\n",
       "        vertical-align: top;\n",
       "    }\n",
       "\n",
       "    .dataframe thead th {\n",
       "        text-align: right;\n",
       "    }\n",
       "</style>\n",
       "<table border=\"1\" class=\"dataframe\">\n",
       "  <thead>\n",
       "    <tr style=\"text-align: right;\">\n",
       "      <th></th>\n",
       "      <th>division_number</th>\n",
       "      <th>president</th>\n",
       "      <th>title</th>\n",
       "      <th>date</th>\n",
       "      <th>location</th>\n",
       "      <th>kind</th>\n",
       "      <th>speech_text</th>\n",
       "    </tr>\n",
       "  </thead>\n",
       "  <tbody>\n",
       "    <tr>\n",
       "      <th>5368</th>\n",
       "      <td>1305368</td>\n",
       "      <td>박정희</td>\n",
       "      <td>제5대 대통령 취임식 대통령 취임사</td>\n",
       "      <td>1963.12.17</td>\n",
       "      <td>국내</td>\n",
       "      <td>취임사</td>\n",
       "      <td>\\n\\n\\n단군성조가 천혜의 이 강토 위에 국기를 닦으신지 반만년, 연면히 이어온 ...</td>\n",
       "    </tr>\n",
       "  </tbody>\n",
       "</table>\n",
       "</div>"
      ],
      "text/plain": [
       "      division_number president                title        date location  \\\n",
       "5368          1305368       박정희  제5대 대통령 취임식 대통령 취임사  1963.12.17       국내   \n",
       "\n",
       "     kind                                        speech_text  \n",
       "5368  취임사  \\n\\n\\n단군성조가 천혜의 이 강토 위에 국기를 닦으신지 반만년, 연면히 이어온 ...  "
      ]
     },
     "execution_count": 9,
     "metadata": {},
     "output_type": "execute_result"
    }
   ],
   "source": [
    "df.head(1)"
   ]
  },
  {
   "cell_type": "markdown",
   "id": "912aacdb-63ee-4b9b-879a-7c18843880da",
   "metadata": {},
   "source": [
    "## 🔍 검색 단어 입력 - search_word\n",
    "###  ⬇ 아래에서 계속 사용합니다 („• ֊ •„)੭"
   ]
  },
  {
   "cell_type": "code",
   "execution_count": 22,
   "id": "e52a0fce-db48-4ff6-a668-622fded8cda9",
   "metadata": {},
   "outputs": [],
   "source": [
    "search_word = \"자유\""
   ]
  },
  {
   "cell_type": "code",
   "execution_count": 23,
   "id": "cfa5f3c5-3759-4ebb-bd47-eadd474a46a8",
   "metadata": {},
   "outputs": [],
   "source": [
    "def add_keyword_count(df: pd.DataFrame, keyword: str) -> pd.DataFrame:\n",
    "    \"\"\"\n",
    "    DataFrame에 keyword_count 컬럼을 추가하여 반환합니다.\n",
    "    각 speech_text에서 keyword가 등장하는 횟수를 계산합니다.\n",
    "    \"\"\"\n",
    "    # keyword_count 컬럼 추가\n",
    "    df['keyword_count'] = df['speech_text'].str.count(keyword)\n",
    "    return df"
   ]
  },
  {
   "cell_type": "code",
   "execution_count": 32,
   "id": "11904d83-abdf-43fe-b5a5-02b5e5889c68",
   "metadata": {},
   "outputs": [],
   "source": [
    "df_kc = add_keyword_count(df, search_word)"
   ]
  },
  {
   "cell_type": "code",
   "execution_count": 33,
   "id": "ce546042-cefe-43ea-9eca-75dce66ac00d",
   "metadata": {},
   "outputs": [
    {
     "data": {
      "text/plain": [
       "Index(['division_number', 'president', 'title', 'date', 'location', 'kind',\n",
       "       'speech_text', 'keyword_count'],\n",
       "      dtype='object')"
      ]
     },
     "execution_count": 33,
     "metadata": {},
     "output_type": "execute_result"
    }
   ],
   "source": [
    "df_kc.columns"
   ]
  },
  {
   "cell_type": "code",
   "execution_count": 34,
   "id": "59ff5004-a999-44f7-b2b1-b3590e947a75",
   "metadata": {},
   "outputs": [
    {
     "data": {
      "text/plain": [
       "division_number     int64\n",
       "president          object\n",
       "title              object\n",
       "date               object\n",
       "location           object\n",
       "kind               object\n",
       "speech_text        object\n",
       "keyword_count       int64\n",
       "dtype: object"
      ]
     },
     "execution_count": 34,
     "metadata": {},
     "output_type": "execute_result"
    }
   ],
   "source": [
    "df_kc.dtypes"
   ]
  },
  {
   "cell_type": "code",
   "execution_count": 35,
   "id": "a74e1585-e29d-4937-886b-5a880b78f2eb",
   "metadata": {},
   "outputs": [
    {
     "data": {
      "text/html": [
       "<div>\n",
       "<style scoped>\n",
       "    .dataframe tbody tr th:only-of-type {\n",
       "        vertical-align: middle;\n",
       "    }\n",
       "\n",
       "    .dataframe tbody tr th {\n",
       "        vertical-align: top;\n",
       "    }\n",
       "\n",
       "    .dataframe thead th {\n",
       "        text-align: right;\n",
       "    }\n",
       "</style>\n",
       "<table border=\"1\" class=\"dataframe\">\n",
       "  <thead>\n",
       "    <tr style=\"text-align: right;\">\n",
       "      <th></th>\n",
       "      <th>president</th>\n",
       "      <th>title</th>\n",
       "      <th>keyword_count</th>\n",
       "    </tr>\n",
       "  </thead>\n",
       "  <tbody>\n",
       "    <tr>\n",
       "      <th>101499</th>\n",
       "      <td>문재인</td>\n",
       "      <td>시스템 반도체 비전선포식</td>\n",
       "      <td>0</td>\n",
       "    </tr>\n",
       "    <tr>\n",
       "      <th>6422</th>\n",
       "      <td>박정희</td>\n",
       "      <td>아메리칸 대학의 제7차 인터내셔널 위크에 보내는 메시지</td>\n",
       "      <td>0</td>\n",
       "    </tr>\n",
       "    <tr>\n",
       "      <th>8804</th>\n",
       "      <td>김대중</td>\n",
       "      <td>6·25 제49주년 참전용사 위로연 연설(한반도 평화와 번영을 위한 호국정신의 계승)</td>\n",
       "      <td>11</td>\n",
       "    </tr>\n",
       "  </tbody>\n",
       "</table>\n",
       "</div>"
      ],
      "text/plain": [
       "       president                                            title  \\\n",
       "101499       문재인                                    시스템 반도체 비전선포식   \n",
       "6422         박정희                   아메리칸 대학의 제7차 인터내셔널 위크에 보내는 메시지   \n",
       "8804         김대중  6·25 제49주년 참전용사 위로연 연설(한반도 평화와 번영을 위한 호국정신의 계승)   \n",
       "\n",
       "        keyword_count  \n",
       "101499              0  \n",
       "6422                0  \n",
       "8804               11  "
      ]
     },
     "execution_count": 35,
     "metadata": {},
     "output_type": "execute_result"
    }
   ],
   "source": [
    "# („• ֊ •„)੭ 연설문 당 search_word 가 speech_text 에 몇번 있는지 카운트 된 결과 입니다\n",
    "df_kc[['president','title','keyword_count']].sample(frac=1, random_state=42).head(3)"
   ]
  },
  {
   "cell_type": "code",
   "execution_count": 45,
   "id": "ffacbcca-579a-4222-adef-10f21ce4ce10",
   "metadata": {},
   "outputs": [
    {
     "data": {
      "text/html": [
       "<div>\n",
       "<style scoped>\n",
       "    .dataframe tbody tr th:only-of-type {\n",
       "        vertical-align: middle;\n",
       "    }\n",
       "\n",
       "    .dataframe tbody tr th {\n",
       "        vertical-align: top;\n",
       "    }\n",
       "\n",
       "    .dataframe thead th {\n",
       "        text-align: right;\n",
       "    }\n",
       "</style>\n",
       "<table border=\"1\" class=\"dataframe\">\n",
       "  <thead>\n",
       "    <tr style=\"text-align: right;\">\n",
       "      <th></th>\n",
       "      <th>president</th>\n",
       "      <th>title</th>\n",
       "      <th>keyword_count</th>\n",
       "    </tr>\n",
       "  </thead>\n",
       "  <tbody>\n",
       "    <tr>\n",
       "      <th>10997</th>\n",
       "      <td>이승만</td>\n",
       "      <td>상항(桑港) 콤몬웰스 클라브에서의 연설</td>\n",
       "      <td>13</td>\n",
       "    </tr>\n",
       "    <tr>\n",
       "      <th>6550</th>\n",
       "      <td>박정희</td>\n",
       "      <td>제9차 세계 반공 연맹 총회 치사</td>\n",
       "      <td>10</td>\n",
       "    </tr>\n",
       "    <tr>\n",
       "      <th>11198</th>\n",
       "      <td>이승만</td>\n",
       "      <td>공군본부 신청사 낙성식에 치사</td>\n",
       "      <td>13</td>\n",
       "    </tr>\n",
       "  </tbody>\n",
       "</table>\n",
       "</div>"
      ],
      "text/plain": [
       "      president                   title  keyword_count\n",
       "10997       이승만  상항(桑港) 콤몬웰스 클라브에서의 연설              13\n",
       "6550        박정희      제9차 세계 반공 연맹 총회 치사             10\n",
       "11198       이승만       공군본부 신청사 낙성식에 치사              13"
      ]
     },
     "execution_count": 45,
     "metadata": {},
     "output_type": "execute_result"
    }
   ],
   "source": [
    "\n",
    "f_df = df_kc[df_kc['keyword_count'] >= 10]\n",
    "\n",
    "# random_state는 랜덤한 결과를 재현 가능하게 만들기 위한 파라미터입니다. \n",
    "# 즉, random_state 값을 설정하면 \n",
    "# 같은 데이터와 같은 조건에서 언제든지 동일한 랜덤 결과를 얻을 수 있습니다. \n",
    "# 이를 통해 실험을 반복하거나 다른 사람과 작업을 공유할 때 결과가 일관되게 유지됩니다.\n",
    "# 42(은하수를 여행하는 히치하이커를 위한 안내서) 에서옴 - 아무 숫자나 가능\n",
    "f_df[['president', 'title', 'keyword_count']].sample(frac=1, random_state=42).head(3)"
   ]
  },
  {
   "cell_type": "code",
   "execution_count": 50,
   "id": "e959975b-c502-46bb-b031-08030b02dbae",
   "metadata": {},
   "outputs": [],
   "source": [
    "a_df = f_df.groupby(\"president\").agg(\n",
    "    count=(\"speech_text\", \"size\"),  # 연설 개수\n",
    "    keyword_sum=(\"keyword_count\", \"sum\")  # keyword 발생 횟수 합산\n",
    ")"
   ]
  },
  {
   "cell_type": "code",
   "execution_count": 52,
   "id": "a86e0351-53e5-47ca-89a3-b23de14b016a",
   "metadata": {},
   "outputs": [],
   "source": [
    "s_df = a_df.sort_values(by=[\"keyword_sum\", \"count\"], ascending=[False, False])"
   ]
  },
  {
   "cell_type": "code",
   "execution_count": 53,
   "id": "9ac22b2a-1e7f-4257-bfc2-7f48b385c409",
   "metadata": {},
   "outputs": [
    {
     "data": {
      "text/html": [
       "<div>\n",
       "<style scoped>\n",
       "    .dataframe tbody tr th:only-of-type {\n",
       "        vertical-align: middle;\n",
       "    }\n",
       "\n",
       "    .dataframe tbody tr th {\n",
       "        vertical-align: top;\n",
       "    }\n",
       "\n",
       "    .dataframe thead th {\n",
       "        text-align: right;\n",
       "    }\n",
       "</style>\n",
       "<table border=\"1\" class=\"dataframe\">\n",
       "  <thead>\n",
       "    <tr style=\"text-align: right;\">\n",
       "      <th></th>\n",
       "      <th>president</th>\n",
       "      <th>count</th>\n",
       "      <th>keyword_sum</th>\n",
       "    </tr>\n",
       "  </thead>\n",
       "  <tbody>\n",
       "    <tr>\n",
       "      <th>0</th>\n",
       "      <td>이승만</td>\n",
       "      <td>59</td>\n",
       "      <td>881</td>\n",
       "    </tr>\n",
       "    <tr>\n",
       "      <th>1</th>\n",
       "      <td>박정희</td>\n",
       "      <td>47</td>\n",
       "      <td>757</td>\n",
       "    </tr>\n",
       "    <tr>\n",
       "      <th>2</th>\n",
       "      <td>노태우</td>\n",
       "      <td>23</td>\n",
       "      <td>314</td>\n",
       "    </tr>\n",
       "    <tr>\n",
       "      <th>3</th>\n",
       "      <td>노무현</td>\n",
       "      <td>6</td>\n",
       "      <td>129</td>\n",
       "    </tr>\n",
       "    <tr>\n",
       "      <th>4</th>\n",
       "      <td>김대중</td>\n",
       "      <td>6</td>\n",
       "      <td>110</td>\n",
       "    </tr>\n",
       "    <tr>\n",
       "      <th>5</th>\n",
       "      <td>전두환</td>\n",
       "      <td>4</td>\n",
       "      <td>67</td>\n",
       "    </tr>\n",
       "    <tr>\n",
       "      <th>6</th>\n",
       "      <td>이명박</td>\n",
       "      <td>4</td>\n",
       "      <td>66</td>\n",
       "    </tr>\n",
       "    <tr>\n",
       "      <th>7</th>\n",
       "      <td>문재인</td>\n",
       "      <td>5</td>\n",
       "      <td>61</td>\n",
       "    </tr>\n",
       "    <tr>\n",
       "      <th>8</th>\n",
       "      <td>김영삼</td>\n",
       "      <td>3</td>\n",
       "      <td>45</td>\n",
       "    </tr>\n",
       "  </tbody>\n",
       "</table>\n",
       "</div>"
      ],
      "text/plain": [
       "  president  count  keyword_sum\n",
       "0       이승만     59          881\n",
       "1       박정희     47          757\n",
       "2       노태우     23          314\n",
       "3       노무현      6          129\n",
       "4       김대중      6          110\n",
       "5       전두환      4           67\n",
       "6       이명박      4           66\n",
       "7       문재인      5           61\n",
       "8       김영삼      3           45"
      ]
     },
     "execution_count": 53,
     "metadata": {},
     "output_type": "execute_result"
    }
   ],
   "source": [
    "s_df.reset_index()"
   ]
  },
  {
   "cell_type": "code",
   "execution_count": 57,
   "id": "bfe41611-2ad1-4b8f-ad66-180bbb88070f",
   "metadata": {},
   "outputs": [
    {
     "data": {
      "text/html": [
       "<div>\n",
       "<style scoped>\n",
       "    .dataframe tbody tr th:only-of-type {\n",
       "        vertical-align: middle;\n",
       "    }\n",
       "\n",
       "    .dataframe tbody tr th {\n",
       "        vertical-align: top;\n",
       "    }\n",
       "\n",
       "    .dataframe thead th {\n",
       "        text-align: right;\n",
       "    }\n",
       "</style>\n",
       "<table border=\"1\" class=\"dataframe\">\n",
       "  <thead>\n",
       "    <tr style=\"text-align: right;\">\n",
       "      <th></th>\n",
       "      <th>president</th>\n",
       "      <th>keyword_count</th>\n",
       "    </tr>\n",
       "  </thead>\n",
       "  <tbody>\n",
       "    <tr>\n",
       "      <th>0</th>\n",
       "      <td>김대중</td>\n",
       "      <td>110</td>\n",
       "    </tr>\n",
       "    <tr>\n",
       "      <th>1</th>\n",
       "      <td>김영삼</td>\n",
       "      <td>45</td>\n",
       "    </tr>\n",
       "    <tr>\n",
       "      <th>2</th>\n",
       "      <td>노무현</td>\n",
       "      <td>129</td>\n",
       "    </tr>\n",
       "    <tr>\n",
       "      <th>3</th>\n",
       "      <td>노태우</td>\n",
       "      <td>314</td>\n",
       "    </tr>\n",
       "    <tr>\n",
       "      <th>4</th>\n",
       "      <td>문재인</td>\n",
       "      <td>61</td>\n",
       "    </tr>\n",
       "    <tr>\n",
       "      <th>5</th>\n",
       "      <td>박정희</td>\n",
       "      <td>757</td>\n",
       "    </tr>\n",
       "    <tr>\n",
       "      <th>6</th>\n",
       "      <td>이명박</td>\n",
       "      <td>66</td>\n",
       "    </tr>\n",
       "    <tr>\n",
       "      <th>7</th>\n",
       "      <td>이승만</td>\n",
       "      <td>881</td>\n",
       "    </tr>\n",
       "    <tr>\n",
       "      <th>8</th>\n",
       "      <td>전두환</td>\n",
       "      <td>67</td>\n",
       "    </tr>\n",
       "  </tbody>\n",
       "</table>\n",
       "</div>"
      ],
      "text/plain": [
       "  president  keyword_count\n",
       "0       김대중            110\n",
       "1       김영삼             45\n",
       "2       노무현            129\n",
       "3       노태우            314\n",
       "4       문재인             61\n",
       "5       박정희            757\n",
       "6       이명박             66\n",
       "7       이승만            881\n",
       "8       전두환             67"
      ]
     },
     "execution_count": 57,
     "metadata": {},
     "output_type": "execute_result"
    }
   ],
   "source": [
    "f_df.groupby(\"president\")[\"keyword_count\"].sum().reset_index()"
   ]
  },
  {
   "cell_type": "code",
   "execution_count": null,
   "id": "5adf37c7-b062-442f-a366-615c8cfe0347",
   "metadata": {},
   "outputs": [],
   "source": []
  }
 ],
 "metadata": {
  "kernelspec": {
   "display_name": "Python 3 (ipykernel)",
   "language": "python",
   "name": "python3"
  },
  "language_info": {
   "codemirror_mode": {
    "name": "ipython",
    "version": 3
   },
   "file_extension": ".py",
   "mimetype": "text/x-python",
   "name": "python",
   "nbconvert_exporter": "python",
   "pygments_lexer": "ipython3",
   "version": "3.10.12"
  }
 },
 "nbformat": 4,
 "nbformat_minor": 5
}
