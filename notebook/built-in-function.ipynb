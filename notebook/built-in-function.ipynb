{
 "cells": [
  {
   "cell_type": "markdown",
   "id": "143a0c6c-c46a-4d46-8c77-1bbb6fffeb01",
   "metadata": {},
   "source": [
    "### 내장함수 연습\n",
    "![LGTM](https://i.lgtm.fun/2vsk.png)"
   ]
  },
  {
   "cell_type": "code",
   "execution_count": 2,
   "id": "53326ff6-94ce-4bb3-b46b-b9954d9f5da8",
   "metadata": {},
   "outputs": [
    {
     "name": "stdout",
     "output_type": "stream",
     "text": [
      "10\n"
     ]
    }
   ],
   "source": [
    "t = (1,2,3,4)\n",
    "print(sum(t))\n",
    "    "
   ]
  },
  {
   "cell_type": "code",
   "execution_count": null,
   "id": "8a8a1c07-b815-46c0-83a3-4ce0e8cdaa6e",
   "metadata": {},
   "outputs": [],
   "source": []
  }
 ],
 "metadata": {
  "kernelspec": {
   "display_name": "Python 3 (ipykernel)",
   "language": "python",
   "name": "python3"
  },
  "language_info": {
   "codemirror_mode": {
    "name": "ipython",
    "version": 3
   },
   "file_extension": ".py",
   "mimetype": "text/x-python",
   "name": "python",
   "nbconvert_exporter": "python",
   "pygments_lexer": "ipython3",
   "version": "3.10.12"
  }
 },
 "nbformat": 4,
 "nbformat_minor": 5
}
