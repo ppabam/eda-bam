{
 "cells": [
  {
   "cell_type": "code",
   "execution_count": 4,
   "id": "8fa451f4-22e3-435a-bd83-a3960ed74b8b",
   "metadata": {},
   "outputs": [],
   "source": [
    "from president_speech.db.parquet_interpreter import get_parquet_full_path\n",
    "import pandas as pd"
   ]
  },
  {
   "cell_type": "code",
   "execution_count": 18,
   "id": "afd4735b-4abb-4e7c-9a93-35d85eaca278",
   "metadata": {},
   "outputs": [],
   "source": [
    "keyword = \"자유\"\n",
    "asc = False"
   ]
  },
  {
   "cell_type": "code",
   "execution_count": 5,
   "id": "496de3f2-f3b8-4742-83b9-3a3243dd0e18",
   "metadata": {},
   "outputs": [],
   "source": [
    "data_path = get_parquet_full_path()"
   ]
  },
  {
   "cell_type": "code",
   "execution_count": 6,
   "id": "dcfff93a-a755-4927-b4a1-d571d32cb2ec",
   "metadata": {},
   "outputs": [],
   "source": [
    "df = pd.read_parquet(data_path) "
   ]
  },
  {
   "cell_type": "code",
   "execution_count": 10,
   "id": "b97aa17c-beb7-42e7-8f3f-a1214cc6e851",
   "metadata": {},
   "outputs": [],
   "source": [
    "fdf = df[df['speech_text'].str.contains(keyword, case=False)]"
   ]
  },
  {
   "cell_type": "code",
   "execution_count": 13,
   "id": "fd0276bc-2cc1-4bce-8d14-84cce4f48779",
   "metadata": {},
   "outputs": [],
   "source": [
    "gdf = fdf.groupby(\"president\").size().reset_index(name=\"count\")"
   ]
  },
  {
   "cell_type": "code",
   "execution_count": 19,
   "id": "ab358b01-545b-4bdd-849b-b9fe084a23bc",
   "metadata": {},
   "outputs": [],
   "source": [
    "sdf = gdf.sort_values(by='count', ascending=asc).reset_index(drop=True)"
   ]
  },
  {
   "cell_type": "code",
   "execution_count": 20,
   "id": "c3ff76a3-faef-4a7b-bd40-2814e770f87c",
   "metadata": {},
   "outputs": [
    {
     "data": {
      "text/html": [
       "<div>\n",
       "<style scoped>\n",
       "    .dataframe tbody tr th:only-of-type {\n",
       "        vertical-align: middle;\n",
       "    }\n",
       "\n",
       "    .dataframe tbody tr th {\n",
       "        vertical-align: top;\n",
       "    }\n",
       "\n",
       "    .dataframe thead th {\n",
       "        text-align: right;\n",
       "    }\n",
       "</style>\n",
       "<table border=\"1\" class=\"dataframe\">\n",
       "  <thead>\n",
       "    <tr style=\"text-align: right;\">\n",
       "      <th></th>\n",
       "      <th>president</th>\n",
       "      <th>count</th>\n",
       "    </tr>\n",
       "  </thead>\n",
       "  <tbody>\n",
       "    <tr>\n",
       "      <th>0</th>\n",
       "      <td>박정희</td>\n",
       "      <td>513</td>\n",
       "    </tr>\n",
       "    <tr>\n",
       "      <th>1</th>\n",
       "      <td>이승만</td>\n",
       "      <td>438</td>\n",
       "    </tr>\n",
       "    <tr>\n",
       "      <th>2</th>\n",
       "      <td>노태우</td>\n",
       "      <td>399</td>\n",
       "    </tr>\n",
       "    <tr>\n",
       "      <th>3</th>\n",
       "      <td>김대중</td>\n",
       "      <td>305</td>\n",
       "    </tr>\n",
       "    <tr>\n",
       "      <th>4</th>\n",
       "      <td>문재인</td>\n",
       "      <td>275</td>\n",
       "    </tr>\n",
       "    <tr>\n",
       "      <th>5</th>\n",
       "      <td>김영삼</td>\n",
       "      <td>274</td>\n",
       "    </tr>\n",
       "    <tr>\n",
       "      <th>6</th>\n",
       "      <td>이명박</td>\n",
       "      <td>262</td>\n",
       "    </tr>\n",
       "    <tr>\n",
       "      <th>7</th>\n",
       "      <td>전두환</td>\n",
       "      <td>242</td>\n",
       "    </tr>\n",
       "    <tr>\n",
       "      <th>8</th>\n",
       "      <td>노무현</td>\n",
       "      <td>230</td>\n",
       "    </tr>\n",
       "    <tr>\n",
       "      <th>9</th>\n",
       "      <td>박근혜</td>\n",
       "      <td>111</td>\n",
       "    </tr>\n",
       "    <tr>\n",
       "      <th>10</th>\n",
       "      <td>최규하</td>\n",
       "      <td>14</td>\n",
       "    </tr>\n",
       "    <tr>\n",
       "      <th>11</th>\n",
       "      <td>윤보선</td>\n",
       "      <td>1</td>\n",
       "    </tr>\n",
       "  </tbody>\n",
       "</table>\n",
       "</div>"
      ],
      "text/plain": [
       "   president  count\n",
       "0        박정희    513\n",
       "1        이승만    438\n",
       "2        노태우    399\n",
       "3        김대중    305\n",
       "4        문재인    275\n",
       "5        김영삼    274\n",
       "6        이명박    262\n",
       "7        전두환    242\n",
       "8        노무현    230\n",
       "9        박근혜    111\n",
       "10       최규하     14\n",
       "11       윤보선      1"
      ]
     },
     "execution_count": 20,
     "metadata": {},
     "output_type": "execute_result"
    }
   ],
   "source": [
    "sdf"
   ]
  },
  {
   "cell_type": "code",
   "execution_count": 60,
   "id": "f2659a1d-207d-43c3-961f-2d031b7d829f",
   "metadata": {},
   "outputs": [],
   "source": [
    "presidents_speeches = {\n",
    "    \"박정희\": 513,\n",
    "    \"이승만\": 438,\n",
    "    \"노태우\": 399,\n",
    "    #\"김대중\": 305,\n",
    "    \"김대중\": 300,\n",
    "    \"문재인\": 275,\n",
    "    \"김영삼\": 274,\n",
    "    \"이명박\": 262,\n",
    "    \"전두환\": 242,\n",
    "    \"노무현\": 230,\n",
    "    \"박근혜\": 111,\n",
    "    \"최규하\": 14,\n",
    "    \"윤보선\": 1\n",
    "}"
   ]
  },
  {
   "cell_type": "code",
   "execution_count": 22,
   "id": "8efeeac9-b7d6-473d-b0db-be49175ebd92",
   "metadata": {},
   "outputs": [
    {
     "data": {
      "text/plain": [
       "dict"
      ]
     },
     "execution_count": 22,
     "metadata": {},
     "output_type": "execute_result"
    }
   ],
   "source": [
    "type(presidents_speeches)"
   ]
  },
  {
   "cell_type": "code",
   "execution_count": 24,
   "id": "61a15c65-6d30-46e0-900c-4fbc636ad30c",
   "metadata": {},
   "outputs": [
    {
     "data": {
      "text/plain": [
       "dict_items"
      ]
     },
     "execution_count": 24,
     "metadata": {},
     "output_type": "execute_result"
    }
   ],
   "source": [
    "type(presidents_speeches.items())"
   ]
  },
  {
   "cell_type": "code",
   "execution_count": 26,
   "id": "2fbd1be2-78b1-4f66-ba53-52a505f803f4",
   "metadata": {},
   "outputs": [
    {
     "data": {
      "text/plain": [
       "dict_items([('박정희', 513), ('이승만', 438), ('노태우', 399), ('김대중', 305), ('문재인', 275), ('김영삼', 274), ('이명박', 262), ('전두환', 242), ('노무현', 230), ('박근혜', 111), ('최규하', 14), ('윤보선', 1)])"
      ]
     },
     "execution_count": 26,
     "metadata": {},
     "output_type": "execute_result"
    }
   ],
   "source": [
    "presidents_speeches.items()"
   ]
  },
  {
   "cell_type": "code",
   "execution_count": 28,
   "id": "491916df-75c9-43e9-9e82-8d1ff7be9f26",
   "metadata": {},
   "outputs": [
    {
     "name": "stdout",
     "output_type": "stream",
     "text": [
      "박정희 -> 513\n",
      "이승만 -> 438\n",
      "노태우 -> 399\n"
     ]
    }
   ],
   "source": [
    "for n, i in [('박정희', 513), ('이승만', 438), ('노태우', 399)]:\n",
    "    print(f\"{n} -> {i}\")"
   ]
  },
  {
   "cell_type": "code",
   "execution_count": 35,
   "id": "c855a933-6a3a-4784-b6c8-1443b83df357",
   "metadata": {},
   "outputs": [
    {
     "name": "stdout",
     "output_type": "stream",
     "text": [
      "--513--\n",
      "--438--\n",
      "--399--\n"
     ]
    }
   ],
   "source": [
    "for _, n in [('박정희', 513), ('이승만', 438), ('노태우', 399)]:\n",
    "    print(f\"--{n}--\")"
   ]
  },
  {
   "cell_type": "code",
   "execution_count": 53,
   "id": "a57f31f9-17aa-41ce-b867-716b8d752bed",
   "metadata": {},
   "outputs": [],
   "source": [
    "a, c, _ = (1, 2, 3)"
   ]
  },
  {
   "cell_type": "code",
   "execution_count": 54,
   "id": "fae7baa9-51e3-4cf6-9abf-a2d17bcc521b",
   "metadata": {},
   "outputs": [
    {
     "name": "stdout",
     "output_type": "stream",
     "text": [
      "박정희 -> 513\n",
      "이승만 -> 438\n",
      "노태우 -> 399\n",
      "김대중 -> 305\n",
      "문재인 -> 275\n",
      "김영삼 -> 274\n",
      "이명박 -> 262\n",
      "전두환 -> 242\n",
      "노무현 -> 230\n",
      "박근혜 -> 111\n",
      "최규하 -> 14\n",
      "윤보선 -> 1\n"
     ]
    }
   ],
   "source": [
    "for p_name, s_count in presidents_speeches.items():\n",
    "    #print(f\"{p_name} -> {s_count}\")\n",
    "    print( p_name + \" -> \" + str(s_count) )"
   ]
  },
  {
   "cell_type": "code",
   "execution_count": 61,
   "id": "a83e0204-6529-48cf-b7a0-0d2e0248be82",
   "metadata": {},
   "outputs": [
    {
     "name": "stdout",
     "output_type": "stream",
     "text": [
      "박정희 = True\n",
      "이승만 = True\n",
      "노태우 = True\n",
      "김대중 = False\n",
      "문재인 = True\n",
      "김영삼 = True\n",
      "이명박 = True\n",
      "전두환 = True\n",
      "노무현 = True\n",
      "박근혜 = True\n",
      "최규하 = True\n",
      "윤보선 = True\n"
     ]
    }
   ],
   "source": [
    "for p_name, s_count in presidents_speeches.items():\n",
    "    president_row = sdf[sdf[\"president\"] == p_name]\n",
    "    is_ok = president_row.iloc[0][\"count\"] == s_count\n",
    "    print(f\"{p_name} = {is_ok}\")"
   ]
  },
  {
   "cell_type": "code",
   "execution_count": 73,
   "id": "c18af1a3-b0d0-4935-b8ec-e8cb70deda3b",
   "metadata": {},
   "outputs": [
    {
     "name": "stdout",
     "output_type": "stream",
     "text": [
      "0:박정희 = True\n",
      "1:이승만 = True\n",
      "2:노태우 = True\n",
      "3:김대중 = False\n",
      "4:문재인 = True\n",
      "5:김영삼 = True\n",
      "6:이명박 = True\n",
      "7:전두환 = True\n",
      "8:노무현 = True\n",
      "9:박근혜 = True\n",
      "10:최규하 = True\n",
      "11:윤보선 = True\n"
     ]
    }
   ],
   "source": [
    "# enumerate()\n",
    "for i, (p_name, s_count) in enumerate(presidents_speeches.items()):\n",
    "    president_row = sdf[sdf[\"president\"] == p_name]\n",
    "    is_ok = (president_row.iloc[0][\"count\"] == s_count)\n",
    "    print(f\"{i}:{p_name} = {president_row.iloc[0]['count'] == s_count}\")"
   ]
  },
  {
   "cell_type": "code",
   "execution_count": 74,
   "id": "a516ab7b-eeb6-402c-8cfb-0b347fa0676e",
   "metadata": {},
   "outputs": [
    {
     "data": {
      "text/plain": [
       "0     False\n",
       "1     False\n",
       "2     False\n",
       "3     False\n",
       "4     False\n",
       "5     False\n",
       "6     False\n",
       "7     False\n",
       "8     False\n",
       "9     False\n",
       "10    False\n",
       "11     True\n",
       "Name: president, dtype: bool"
      ]
     },
     "execution_count": 74,
     "metadata": {},
     "output_type": "execute_result"
    }
   ],
   "source": [
    "sdf[\"president\"] == p_name"
   ]
  },
  {
   "cell_type": "code",
   "execution_count": 66,
   "id": "64e5badc-e18a-477f-bf87-de79383d998c",
   "metadata": {},
   "outputs": [
    {
     "name": "stdout",
     "output_type": "stream",
     "text": [
      "0:박정희 = True\n",
      "1:이승만 = True\n",
      "2:노태우 = True\n",
      "3:김대중 = False\n",
      "4:문재인 = True\n",
      "5:김영삼 = True\n",
      "6:이명박 = True\n",
      "7:전두환 = True\n",
      "8:노무현 = True\n",
      "9:박근혜 = True\n",
      "10:최규하 = True\n",
      "11:윤보선 = True\n"
     ]
    }
   ],
   "source": [
    "for i, (p_name, s_count) in enumerate(presidents_speeches.items()):\n",
    "    is_ok = president_row = sdf.iat[i,1] == s_count\n",
    "    print(f\"{i}:{p_name} = {is_ok}\")"
   ]
  },
  {
   "cell_type": "code",
   "execution_count": null,
   "id": "7d520005-c081-43a8-b448-c8adfe19aabb",
   "metadata": {},
   "outputs": [],
   "source": []
  }
 ],
 "metadata": {
  "kernelspec": {
   "display_name": "Python 3 (ipykernel)",
   "language": "python",
   "name": "python3"
  },
  "language_info": {
   "codemirror_mode": {
    "name": "ipython",
    "version": 3
   },
   "file_extension": ".py",
   "mimetype": "text/x-python",
   "name": "python",
   "nbconvert_exporter": "python",
   "pygments_lexer": "ipython3",
   "version": "3.10.12"
  }
 },
 "nbformat": 4,
 "nbformat_minor": 5
}
